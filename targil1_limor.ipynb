{
 "metadata": {
  "language_info": {
   "codemirror_mode": {
    "name": "ipython",
    "version": 3
   },
   "file_extension": ".py",
   "mimetype": "text/x-python",
   "name": "python",
   "nbconvert_exporter": "python",
   "pygments_lexer": "ipython3",
   "version": "3.8.5"
  },
  "orig_nbformat": 2,
  "kernelspec": {
   "name": "python385jvsc74a57bd077ef7ebef8db171c085d408404f9c647aa5514ac56989262e1aef8005a544110",
   "display_name": "Python 3.8.5 64-bit"
  }
 },
 "nbformat": 4,
 "nbformat_minor": 2,
 "cells": [
  {
   "cell_type": "code",
   "execution_count": 1,
   "metadata": {},
   "outputs": [],
   "source": [
    "import pandas as pd"
   ]
  },
  {
   "cell_type": "code",
   "execution_count": 4,
   "metadata": {},
   "outputs": [],
   "source": [
    "df = pd.read_csv('df.csv')"
   ]
  },
  {
   "cell_type": "code",
   "execution_count": 5,
   "metadata": {},
   "outputs": [
    {
     "output_type": "execute_result",
     "data": {
      "text/plain": [
       "              A         B         C         D\n",
       "count  6.000000  6.000000  6.000000  6.000000\n",
       "mean  -0.060619 -0.342792 -0.596411  0.673989\n",
       "std    1.389293  0.917850  0.527230  0.709344\n",
       "min   -2.335317 -1.072399 -1.362584 -0.106725\n",
       "25%   -0.798897 -0.931266 -0.894869  0.264853\n",
       "50%    0.525667 -0.486836 -0.542487  0.522792\n",
       "75%    0.858834 -0.387626 -0.303212  0.892946\n",
       "max    1.190798  1.423284  0.104875  1.909871"
      ],
      "text/html": "<div>\n<style scoped>\n    .dataframe tbody tr th:only-of-type {\n        vertical-align: middle;\n    }\n\n    .dataframe tbody tr th {\n        vertical-align: top;\n    }\n\n    .dataframe thead th {\n        text-align: right;\n    }\n</style>\n<table border=\"1\" class=\"dataframe\">\n  <thead>\n    <tr style=\"text-align: right;\">\n      <th></th>\n      <th>A</th>\n      <th>B</th>\n      <th>C</th>\n      <th>D</th>\n    </tr>\n  </thead>\n  <tbody>\n    <tr>\n      <th>count</th>\n      <td>6.000000</td>\n      <td>6.000000</td>\n      <td>6.000000</td>\n      <td>6.000000</td>\n    </tr>\n    <tr>\n      <th>mean</th>\n      <td>-0.060619</td>\n      <td>-0.342792</td>\n      <td>-0.596411</td>\n      <td>0.673989</td>\n    </tr>\n    <tr>\n      <th>std</th>\n      <td>1.389293</td>\n      <td>0.917850</td>\n      <td>0.527230</td>\n      <td>0.709344</td>\n    </tr>\n    <tr>\n      <th>min</th>\n      <td>-2.335317</td>\n      <td>-1.072399</td>\n      <td>-1.362584</td>\n      <td>-0.106725</td>\n    </tr>\n    <tr>\n      <th>25%</th>\n      <td>-0.798897</td>\n      <td>-0.931266</td>\n      <td>-0.894869</td>\n      <td>0.264853</td>\n    </tr>\n    <tr>\n      <th>50%</th>\n      <td>0.525667</td>\n      <td>-0.486836</td>\n      <td>-0.542487</td>\n      <td>0.522792</td>\n    </tr>\n    <tr>\n      <th>75%</th>\n      <td>0.858834</td>\n      <td>-0.387626</td>\n      <td>-0.303212</td>\n      <td>0.892946</td>\n    </tr>\n    <tr>\n      <th>max</th>\n      <td>1.190798</td>\n      <td>1.423284</td>\n      <td>0.104875</td>\n      <td>1.909871</td>\n    </tr>\n  </tbody>\n</table>\n</div>"
     },
     "metadata": {},
     "execution_count": 5
    }
   ],
   "source": [
    "df.describe()"
   ]
  },
  {
   "cell_type": "code",
   "execution_count": 8,
   "metadata": {},
   "outputs": [
    {
     "output_type": "execute_result",
     "data": {
      "text/plain": [
       "(6, 5)"
      ]
     },
     "metadata": {},
     "execution_count": 8
    }
   ],
   "source": [
    "df.shape"
   ]
  },
  {
   "cell_type": "code",
   "execution_count": 7,
   "metadata": {},
   "outputs": [
    {
     "output_type": "stream",
     "name": "stdout",
     "text": [
      "<class 'pandas.core.frame.DataFrame'>\nRangeIndex: 6 entries, 0 to 5\nData columns (total 5 columns):\n #   Column      Non-Null Count  Dtype  \n---  ------      --------------  -----  \n 0   Unnamed: 0  6 non-null      object \n 1   A           6 non-null      float64\n 2   B           6 non-null      float64\n 3   C           6 non-null      float64\n 4   D           6 non-null      float64\ndtypes: float64(4), object(1)\nmemory usage: 368.0+ bytes\n"
     ]
    }
   ],
   "source": [
    "df.info()"
   ]
  },
  {
   "cell_type": "code",
   "execution_count": null,
   "metadata": {},
   "outputs": [],
   "source": []
  }
 ]
}