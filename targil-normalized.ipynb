{
 "cells": [
  {
   "cell_type": "code",
   "execution_count": 70,
   "metadata": {},
   "outputs": [],
   "source": [
    "import pandas as pd\n",
    "import numpy as np\n",
    "from scipy import stats\n",
    "import datetime as dt"
   ]
  },
  {
   "cell_type": "code",
   "execution_count": 71,
   "metadata": {},
   "outputs": [],
   "source": [
    "a = np.array([1,2,1,10,5,10,4])"
   ]
  },
  {
   "cell_type": "code",
   "execution_count": 72,
   "metadata": {},
   "outputs": [
    {
     "output_type": "execute_result",
     "data": {
      "text/plain": [
       "array([ 1,  2,  1, 10,  5, 10,  4])"
      ]
     },
     "metadata": {},
     "execution_count": 72
    }
   ],
   "source": [
    "a"
   ]
  },
  {
   "cell_type": "code",
   "execution_count": 73,
   "metadata": {},
   "outputs": [],
   "source": [
    "b = np.array([1,2,1,10,5,10,4,100,-3])"
   ]
  },
  {
   "cell_type": "code",
   "execution_count": 39,
   "metadata": {},
   "outputs": [],
   "source": [
    "a_series = pd.Series(a)"
   ]
  },
  {
   "cell_type": "code",
   "execution_count": 40,
   "metadata": {},
   "outputs": [
    {
     "output_type": "execute_result",
     "data": {
      "text/plain": [
       "0     1\n",
       "1    10\n",
       "dtype: int32"
      ]
     },
     "metadata": {},
     "execution_count": 40
    }
   ],
   "source": [
    "a_series.mode()"
   ]
  },
  {
   "cell_type": "code",
   "execution_count": 41,
   "metadata": {},
   "outputs": [
    {
     "output_type": "execute_result",
     "data": {
      "text/plain": [
       "-1.3878046875"
      ]
     },
     "metadata": {},
     "execution_count": 41
    }
   ],
   "source": [
    "a_series.kurtosis()"
   ]
  },
  {
   "cell_type": "code",
   "execution_count": 42,
   "metadata": {},
   "outputs": [
    {
     "output_type": "execute_result",
     "data": {
      "text/plain": [
       "0.6767790763704878"
      ]
     },
     "metadata": {},
     "execution_count": 42
    }
   ],
   "source": [
    "a_series.skew()"
   ]
  },
  {
   "cell_type": "code",
   "execution_count": 43,
   "metadata": {},
   "outputs": [
    {
     "output_type": "execute_result",
     "data": {
      "text/plain": [
       "0.6767790763704881"
      ]
     },
     "metadata": {},
     "execution_count": 43
    }
   ],
   "source": [
    "stats.skew(a, bias = False)"
   ]
  },
  {
   "cell_type": "code",
   "execution_count": 44,
   "metadata": {},
   "outputs": [
    {
     "output_type": "execute_result",
     "data": {
      "text/plain": [
       "0.6767790763704878"
      ]
     },
     "metadata": {},
     "execution_count": 44
    }
   ],
   "source": [
    "pd.Series(a).skew()"
   ]
  },
  {
   "cell_type": "code",
   "execution_count": 45,
   "metadata": {},
   "outputs": [
    {
     "output_type": "execute_result",
     "data": {
      "text/plain": [
       "0.19764235376052372"
      ]
     },
     "metadata": {},
     "execution_count": 45
    }
   ],
   "source": [
    "(np.mean(a)-np.median(a))/np.std(a)"
   ]
  },
  {
   "cell_type": "code",
   "execution_count": 46,
   "metadata": {},
   "outputs": [
    {
     "output_type": "execute_result",
     "data": {
      "text/plain": [
       "1.6717480468749997"
      ]
     },
     "metadata": {},
     "execution_count": 46
    }
   ],
   "source": [
    "stats.kurtosis(a, fisher=False)"
   ]
  },
  {
   "cell_type": "code",
   "execution_count": 49,
   "metadata": {},
   "outputs": [
    {
     "output_type": "execute_result",
     "data": {
      "text/plain": [
       "array([ 1,  2,  1, 10,  5, 10,  4])"
      ]
     },
     "metadata": {},
     "execution_count": 49
    }
   ],
   "source": [
    "a"
   ]
  },
  {
   "cell_type": "code",
   "execution_count": 48,
   "metadata": {},
   "outputs": [
    {
     "output_type": "execute_result",
     "data": {
      "text/plain": [
       "array([0.        , 0.11111111, 0.        , 1.        , 0.44444444,\n",
       "       1.        , 0.33333333])"
      ]
     },
     "metadata": {},
     "execution_count": 48
    }
   ],
   "source": [
    "(a- np.min(a))/(np.max(a)-np.min(a))"
   ]
  },
  {
   "cell_type": "code",
   "execution_count": 52,
   "metadata": {},
   "outputs": [],
   "source": [
    "from scipy.stats import zscore"
   ]
  },
  {
   "cell_type": "code",
   "execution_count": 55,
   "metadata": {},
   "outputs": [
    {
     "output_type": "execute_result",
     "data": {
      "text/plain": [
       "array([-1.02774024, -0.75104094, -1.02774024,  1.46255342,  0.07905694,\n",
       "        1.46255342, -0.19764235])"
      ]
     },
     "metadata": {},
     "execution_count": 55
    }
   ],
   "source": [
    "zscore(a)"
   ]
  },
  {
   "cell_type": "code",
   "execution_count": 57,
   "metadata": {},
   "outputs": [
    {
     "output_type": "execute_result",
     "data": {
      "text/plain": [
       "array([-1.02774024, -0.75104094, -1.02774024,  1.46255342,  0.07905694,\n",
       "        1.46255342, -0.19764235])"
      ]
     },
     "metadata": {},
     "execution_count": 57
    }
   ],
   "source": [
    "(a - np.mean(a)) / np.std(a)"
   ]
  },
  {
   "cell_type": "code",
   "execution_count": 74,
   "metadata": {},
   "outputs": [
    {
     "output_type": "execute_result",
     "data": {
      "text/plain": [
       "array([  1,   2,   1,  10,   5,  10,   4, 100,  -3])"
      ]
     },
     "metadata": {},
     "execution_count": 74
    }
   ],
   "source": [
    "b"
   ]
  },
  {
   "cell_type": "code",
   "execution_count": 81,
   "metadata": {},
   "outputs": [
    {
     "output_type": "stream",
     "name": "stderr",
     "text": [
      "<ipython-input-81-2f5514553bdb>:2: DeprecationWarning: `median_absolute_deviation` is deprecated, use `median_abs_deviation` instead!\n\nTo preserve the existing default behavior, use\n`scipy.stats.median_abs_deviation(..., scale=1/1.4826)`.\nThe value 1.4826 is not numerically precise for scaling\nwith a normal distribution. For a numerically precise value, use\n`scipy.stats.median_abs_deviation(..., scale='normal')`.\n\n  stats.median_absolute_deviation(b)\n"
     ]
    },
    {
     "output_type": "execute_result",
     "data": {
      "text/plain": [
       "4.4478"
      ]
     },
     "metadata": {},
     "execution_count": 81
    }
   ],
   "source": [
    "from scipy import stats\n",
    "stats.median_absolute_deviation(b)"
   ]
  },
  {
   "cell_type": "code",
   "execution_count": 82,
   "metadata": {},
   "outputs": [],
   "source": [
    "q75,q25 =np.quantile(b,0.75) , np.quantile(b,0.25)"
   ]
  },
  {
   "cell_type": "code",
   "execution_count": 93,
   "metadata": {},
   "outputs": [
    {
     "output_type": "stream",
     "name": "stdout",
     "text": [
      "10.0\n1.0\n"
     ]
    }
   ],
   "source": [
    "print(q75)\n",
    "print(q25)"
   ]
  },
  {
   "cell_type": "code",
   "execution_count": 95,
   "metadata": {},
   "outputs": [
    {
     "output_type": "stream",
     "name": "stdout",
     "text": [
      "gap 9.0\n"
     ]
    }
   ],
   "source": [
    "gap = q75 - q25\n",
    "print('gap {}'.format(gap))"
   ]
  },
  {
   "cell_type": "code",
   "execution_count": 96,
   "metadata": {},
   "outputs": [
    {
     "output_type": "stream",
     "name": "stdout",
     "text": [
      "19.0\n-8.0\n"
     ]
    }
   ],
   "source": [
    "upper, lower = q75+gap , q25-gap\n",
    "print(upper)\n",
    "print(lower)"
   ]
  },
  {
   "cell_type": "code",
   "execution_count": 85,
   "metadata": {},
   "outputs": [
    {
     "output_type": "execute_result",
     "data": {
      "text/plain": [
       "[100]"
      ]
     },
     "metadata": {},
     "execution_count": 85
    }
   ],
   "source": [
    "[num for num in b if num>upper or num < lower]"
   ]
  },
  {
   "cell_type": "code",
   "execution_count": 90,
   "metadata": {},
   "outputs": [
    {
     "output_type": "execute_result",
     "data": {
      "text/plain": [
       "3.0"
      ]
     },
     "metadata": {},
     "execution_count": 90
    }
   ],
   "source": [
    "mad_b = np.median([np.abs(num-np.median(b)) for num in b])\n",
    "mad_b"
   ]
  },
  {
   "cell_type": "code",
   "execution_count": 88,
   "metadata": {},
   "outputs": [
    {
     "output_type": "execute_result",
     "data": {
      "text/plain": [
       "[]"
      ]
     },
     "metadata": {},
     "execution_count": 88
    }
   ],
   "source": [
    "[num for num in b if np.abs(num -np.mean(num))/np.std(b)>3]"
   ]
  },
  {
   "cell_type": "code",
   "execution_count": 91,
   "metadata": {},
   "outputs": [
    {
     "output_type": "execute_result",
     "data": {
      "text/plain": [
       "[10, 5, 10, 100]"
      ]
     },
     "metadata": {},
     "execution_count": 91
    }
   ],
   "source": [
    "[num for num in b if np.abs(num- np.median(b)/mad_b>3)]"
   ]
  },
  {
   "cell_type": "code",
   "execution_count": null,
   "metadata": {},
   "outputs": [],
   "source": []
  }
 ],
 "metadata": {
  "kernelspec": {
   "name": "python385jvsc74a57bd077ef7ebef8db171c085d408404f9c647aa5514ac56989262e1aef8005a544110",
   "display_name": "Python 3.8.5 64-bit"
  },
  "language_info": {
   "codemirror_mode": {
    "name": "ipython",
    "version": 3
   },
   "file_extension": ".py",
   "mimetype": "text/x-python",
   "name": "python",
   "nbconvert_exporter": "python",
   "pygments_lexer": "ipython3",
   "version": "3.8.5"
  }
 },
 "nbformat": 4,
 "nbformat_minor": 4
}